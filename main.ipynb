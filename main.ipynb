{
 "cells": [
  {
   "cell_type": "markdown",
   "metadata": {},
   "source": [
    "> This notebook is designed to showcase my thought process for the first part of the challenge. This notebook is purely to help yourself and the wider team easily understand and evaluate the approach taken. This notebook isn't something we'd productionise.\n",
    "\n",
    "## Introduction\n",
    "\n",
    "Hey team 👋, I hope you're ready for a bit of an adventure as we delve into our first task outlined in the challenge brief.\n",
    "\n",
    "👉 *Develop some code to compute the similarity metric for each image-text pair and save it in an additional column in the given csv file.*"
   ]
  },
  {
   "cell_type": "code",
   "execution_count": 10,
   "metadata": {},
   "outputs": [],
   "source": [
    "import pandas as pd\n",
    "from src.image.image import load_image_from_url\n",
    "from src.image_text_similarity_calculator import ImageTextSimilarityCalculator\n",
    "from src.model.zero_shot_image_classification_model import Input\n",
    "from src.model.openai_clip_vit_model import OpenaiClipVitModel\n",
    "from src.distance.cosine_distance_calculator import CosineDistanceCalculator"
   ]
  },
  {
   "cell_type": "code",
   "execution_count": 2,
   "metadata": {},
   "outputs": [
    {
     "name": "stdout",
     "output_type": "stream",
     "text": [
      "Our Dataset contains 51 rows and 2 columns\n"
     ]
    },
    {
     "data": {
      "text/html": [
       "<div>\n",
       "<style scoped>\n",
       "    .dataframe tbody tr th:only-of-type {\n",
       "        vertical-align: middle;\n",
       "    }\n",
       "\n",
       "    .dataframe tbody tr th {\n",
       "        vertical-align: top;\n",
       "    }\n",
       "\n",
       "    .dataframe thead th {\n",
       "        text-align: right;\n",
       "    }\n",
       "</style>\n",
       "<table border=\"1\" class=\"dataframe\">\n",
       "  <thead>\n",
       "    <tr style=\"text-align: right;\">\n",
       "      <th></th>\n",
       "      <th>url</th>\n",
       "      <th>caption</th>\n",
       "    </tr>\n",
       "  </thead>\n",
       "  <tbody>\n",
       "    <tr>\n",
       "      <th>0</th>\n",
       "      <td>https://cdn.leonardo.ai/users/85498bb1-9ae7-4b...</td>\n",
       "      <td>2 friendly real estate agent standing. one wit...</td>\n",
       "    </tr>\n",
       "    <tr>\n",
       "      <th>1</th>\n",
       "      <td>https://cdn.leonardo.ai/users/b5a9a19e-f630-4e...</td>\n",
       "      <td>vector pattern, pastel colors, in style kawai ...</td>\n",
       "    </tr>\n",
       "    <tr>\n",
       "      <th>2</th>\n",
       "      <td>https://cdn.leonardo.ai/users/925ced00-c573-43...</td>\n",
       "      <td>a young beautiful girl run away kitchen. got s...</td>\n",
       "    </tr>\n",
       "    <tr>\n",
       "      <th>3</th>\n",
       "      <td>https://cdn.leonardo.ai/users/61b0d7a9-8b0d-46...</td>\n",
       "      <td>Criança menino de 1 ano cabelo cacheado com as...</td>\n",
       "    </tr>\n",
       "    <tr>\n",
       "      <th>4</th>\n",
       "      <td>https://cdn.leonardo.ai/users/566cd98a-7e64-47...</td>\n",
       "      <td>A little girl wearing a red dress smiled. Play...</td>\n",
       "    </tr>\n",
       "  </tbody>\n",
       "</table>\n",
       "</div>"
      ],
      "text/plain": [
       "                                                 url  \\\n",
       "0  https://cdn.leonardo.ai/users/85498bb1-9ae7-4b...   \n",
       "1  https://cdn.leonardo.ai/users/b5a9a19e-f630-4e...   \n",
       "2  https://cdn.leonardo.ai/users/925ced00-c573-43...   \n",
       "3  https://cdn.leonardo.ai/users/61b0d7a9-8b0d-46...   \n",
       "4  https://cdn.leonardo.ai/users/566cd98a-7e64-47...   \n",
       "\n",
       "                                             caption  \n",
       "0  2 friendly real estate agent standing. one wit...  \n",
       "1  vector pattern, pastel colors, in style kawai ...  \n",
       "2  a young beautiful girl run away kitchen. got s...  \n",
       "3  Criança menino de 1 ano cabelo cacheado com as...  \n",
       "4  A little girl wearing a red dress smiled. Play...  "
      ]
     },
     "execution_count": 2,
     "metadata": {},
     "output_type": "execute_result"
    }
   ],
   "source": [
    "# Lets first take a look at the data we're provided with\n",
    "df = pd.read_csv(\"data/challenge_set.csv\")\n",
    "print(f\"Our Dataset contains {df.shape[0]} rows and {df.shape[1]} columns\")\n",
    "df.head()"
   ]
  },
  {
   "cell_type": "markdown",
   "metadata": {},
   "source": [
    "We're given a pretty simple dataframe containing 2 columns, one containing a `url` which points to an image and the other containing a `caption` which describes the image. We want to calculate how similar the image is to the provided caption.\n",
    "\n",
    "From this a couple obvious but important insights are:\n",
    "\n",
    "1. We want to calculate the similarity between 2 inputs of different modalities (image-text).\n",
    "2. Our captions don't map to a set of predefined categories or labels E.g. [\"cat\", \"dog\", \"chair\", ...]\n",
    "\n",
    "💡 This highlights that we require a model that is able to classify both images and text (image-text) along with supporting the classification of unseen labels (zero-shot classification).\n",
    "\n",
    "## What is Similarity\n",
    "\n",
    "Before we dive any deeper lets give a simple example of how we'd calculate the similarity between text to text.\n",
    "\n",
    "For example, how similar are `Unleash your Creativity`, `Bob Ross` and `42`?\n",
    "\n",
    "The first thing we need is a model that is able to classify the semantic meaning of these pieces of text. These types of semantic classification or embedding models are widely available in todays rich pre-trained model ecosystem.\n",
    "\n",
    "Feeding our text through on of these models (inference) we get back an embedding. This embedding is a point in a high-dimensional vector space which encodes or represents the semantic meaning of the input text.\n",
    "\n",
    "<p align=\"center\">\n",
    "  <img src=\"./assets/text-embedding.png\" width=\"720\"/>\n",
    "</p>\n",
    "\n",
    "Continuing this process with our example pieces of text each piece of text gets a point in this vector space.\n",
    "\n",
    "<p align=\"center\">\n",
    "  <img src=\"./assets/multiple-text-embeddings.png\" width=\"720\"/>\n",
    "</p>\n",
    "\n",
    "The closeness of these points indicates their relatedness or similarity. This closeness or distance is easily measured (with measures like euclidean distance, cosine distance etc) as our embeddings are just points in vector space.\n",
    "\n",
    "💡 This distance measurement is our similarity score.\n",
    "\n",
    "### Comparing Images to Text\n",
    "\n",
    "What makes our problem slightly different to the above is instead of comparing text to text we're comparing images to text.\n",
    "\n",
    "Thankfully the only thing that changes is the model we are required to use to produce our classification. This model needs to be multimodal and needs to output an embedding for both images and text in the same vector space. Once we have this key piece calculating the similarity is conceptually the same as the text to text example above.\n",
    "\n",
    "<p align=\"center\">\n",
    "  <img src=\"./assets/image-text-embedding.png\" width=\"720\"/>\n",
    "</p>\n",
    "\n",
    "🎉 Ta-da! We now have a blueprint to conceptually calculate the similarity of an image and a piece of text.\n",
    "\n",
    "## Handling Unseen Labels\n",
    "\n",
    "As previously mentioned looking at our data reveals a wide variety of various captions and images. This freeform nature can be an issue for some models, especially if the model hasn't been trained (previously seen) on a particular label.\n",
    "\n",
    "For example, if we had a model that was only trained on images of fruit and we gave it an image of a sports car things would go south pretty quick. Therefore we need a model that's able to handle this level of variance.\n",
    "\n",
    "For this task however we don't need too go too deep on this topic, but more understand that this directly influences our model selection.\n",
    "\n",
    "More specifically we require a [Zero-shot Image Classification](https://huggingface.co/tasks/zero-shot-image-classification) model.\n",
    "\n",
    "## Model Selection\n",
    "\n",
    "So we know we require a `Zero-shot Image Classification` model, and as previously mentioned there are a bunch of high-quality pre-trained models available for us to use.\n",
    "\n",
    "From the interim conversations I've had with the team at 🧙 Leonardo.ai I understand that [🤗 Hugging Face](https://huggingface.co/) is a popular choice to use these pre-trained foundational models. So that sounds like a good place to start to me!\n",
    "\n",
    "Looking at the Zero-shot Image Classification models available a couple popular choices standout.\n",
    "\n",
    "- OpenAI's CLIP-vit models (a couple size and fine-tuned variations)\n",
    "- Meta's Metaclip models (again with a couple size and fine-tuned variations)\n",
    "\n",
    "In a real-world scenario we'd want to spend a fair amount of time comparing the performance aspects of these models and how that suits our problem requirements.\n",
    "\n",
    "For now we'll go with one of OpenAI's smaller sized variants.\n",
    "\n",
    "👉 `openai/clip-vit-base-patch32` [Model Card](https://huggingface.co/openai/clip-vit-base-patch32)\n",
    "\n",
    "## Implementation\n",
    "\n",
    "Ok so now we understand how to calculate the similarity of an image and a piece of text and we have a model in mind lets talk about implementation!\n",
    "\n",
    "I'm a big fan of the [SOLID](https://en.wikipedia.org/wiki/SOLID) principles, but I'm also very aware of not trying to \"boiling the ocean\" (over-engineering) for this particular challenge - often times I find keeping things simple goes a very long way.\n",
    "\n",
    "That being said, I'll aim for an implementation that enables easy experimentation and support for various components (models, distance calculations etc). This is something that is particularly important in todays rapidly evolving ecosystem."
   ]
  },
  {
   "cell_type": "code",
   "execution_count": 3,
   "metadata": {},
   "outputs": [],
   "source": [
    "\"\"\"\n",
    "First thing we need to do is to convert our dataframe rows into a standard\n",
    "input format that our implementation can better work with\n",
    "\n",
    "Notably, we need to convert the image urls into actual pillow images which\n",
    "is something our implementation shouldn't be responsible for.\n",
    "\"\"\"\n",
    "inputs = [\n",
    "  Input(\n",
    "    image=load_image_from_url(row['url']),\n",
    "    caption=row['caption'],\n",
    "  ) for _, row in df.head(3).iterrows()\n",
    "]"
   ]
  },
  {
   "cell_type": "code",
   "execution_count": 15,
   "metadata": {},
   "outputs": [
    {
     "name": "stdout",
     "output_type": "stream",
     "text": [
      "The first couple similarity scores look like: [0.43172889947891235, 0.2867419719696045, 0.2854357063770294]\n"
     ]
    }
   ],
   "source": [
    "\"\"\"\n",
    "Next we want to instantiate our image-text similarity calculator.\n",
    "\n",
    "As previously discussed this will use an OpenAI CLIP model to produce our\n",
    "image and text embeddings and a cosine distance calculator to calculate.\n",
    "\n",
    "These parameters are both configurable and can be swapped out for other components\n",
    "E.g. we could use a MetaCLIP model instead of OpenAI CLIP or a different distance\n",
    "calculator such as Euclidean distance.\n",
    "\"\"\"\n",
    "image_text_similarity_calculator = ImageTextSimilarityCalculator(\n",
    "  model=OpenaiClipVitModel(),\n",
    "  distance_calculator=CosineDistanceCalculator()\n",
    ")\n",
    "\n",
    "# Calculate our similarities\n",
    "similarities = image_text_similarity_calculator.calculate(inputs)\n",
    "print(f\"The first couple similarity scores look like: {similarities[:3]}\")"
   ]
  },
  {
   "cell_type": "code",
   "execution_count": 8,
   "metadata": {},
   "outputs": [
    {
     "ename": "ValueError",
     "evalue": "Length of values (3) does not match length of index (51)",
     "output_type": "error",
     "traceback": [
      "\u001b[0;31m---------------------------------------------------------------------------\u001b[0m",
      "\u001b[0;31mValueError\u001b[0m                                Traceback (most recent call last)",
      "Cell \u001b[0;32mIn[8], line 5\u001b[0m\n\u001b[1;32m      1\u001b[0m \u001b[38;5;124;03m\"\"\"\u001b[39;00m\n\u001b[1;32m      2\u001b[0m \u001b[38;5;124;03mNow that we have our similarities all that's left to do is to output them\u001b[39;00m\n\u001b[1;32m      3\u001b[0m \u001b[38;5;124;03mback to our dataframe and save the output.\u001b[39;00m\n\u001b[1;32m      4\u001b[0m \u001b[38;5;124;03m\"\"\"\u001b[39;00m\n\u001b[0;32m----> 5\u001b[0m \u001b[43mdf\u001b[49m\u001b[43m[\u001b[49m\u001b[38;5;124;43m'\u001b[39;49m\u001b[38;5;124;43msimilarity\u001b[39;49m\u001b[38;5;124;43m'\u001b[39;49m\u001b[43m]\u001b[49m \u001b[38;5;241m=\u001b[39m similarities\n\u001b[1;32m      6\u001b[0m df\u001b[38;5;241m.\u001b[39mto_csv(\u001b[38;5;124m\"\u001b[39m\u001b[38;5;124moutput.csv\u001b[39m\u001b[38;5;124m\"\u001b[39m, index\u001b[38;5;241m=\u001b[39m\u001b[38;5;28;01mFalse\u001b[39;00m)\n",
      "File \u001b[0;32m~/projects/leonardo.ai/venv/lib/python3.10/site-packages/pandas/core/frame.py:4299\u001b[0m, in \u001b[0;36mDataFrame.__setitem__\u001b[0;34m(self, key, value)\u001b[0m\n\u001b[1;32m   4296\u001b[0m     \u001b[38;5;28mself\u001b[39m\u001b[38;5;241m.\u001b[39m_setitem_array([key], value)\n\u001b[1;32m   4297\u001b[0m \u001b[38;5;28;01melse\u001b[39;00m:\n\u001b[1;32m   4298\u001b[0m     \u001b[38;5;66;03m# set column\u001b[39;00m\n\u001b[0;32m-> 4299\u001b[0m     \u001b[38;5;28;43mself\u001b[39;49m\u001b[38;5;241;43m.\u001b[39;49m\u001b[43m_set_item\u001b[49m\u001b[43m(\u001b[49m\u001b[43mkey\u001b[49m\u001b[43m,\u001b[49m\u001b[43m \u001b[49m\u001b[43mvalue\u001b[49m\u001b[43m)\u001b[49m\n",
      "File \u001b[0;32m~/projects/leonardo.ai/venv/lib/python3.10/site-packages/pandas/core/frame.py:4512\u001b[0m, in \u001b[0;36mDataFrame._set_item\u001b[0;34m(self, key, value)\u001b[0m\n\u001b[1;32m   4502\u001b[0m \u001b[38;5;28;01mdef\u001b[39;00m \u001b[38;5;21m_set_item\u001b[39m(\u001b[38;5;28mself\u001b[39m, key, value) \u001b[38;5;241m-\u001b[39m\u001b[38;5;241m>\u001b[39m \u001b[38;5;28;01mNone\u001b[39;00m:\n\u001b[1;32m   4503\u001b[0m \u001b[38;5;250m    \u001b[39m\u001b[38;5;124;03m\"\"\"\u001b[39;00m\n\u001b[1;32m   4504\u001b[0m \u001b[38;5;124;03m    Add series to DataFrame in specified column.\u001b[39;00m\n\u001b[1;32m   4505\u001b[0m \n\u001b[0;32m   (...)\u001b[0m\n\u001b[1;32m   4510\u001b[0m \u001b[38;5;124;03m    ensure homogeneity.\u001b[39;00m\n\u001b[1;32m   4511\u001b[0m \u001b[38;5;124;03m    \"\"\"\u001b[39;00m\n\u001b[0;32m-> 4512\u001b[0m     value, refs \u001b[38;5;241m=\u001b[39m \u001b[38;5;28;43mself\u001b[39;49m\u001b[38;5;241;43m.\u001b[39;49m\u001b[43m_sanitize_column\u001b[49m\u001b[43m(\u001b[49m\u001b[43mvalue\u001b[49m\u001b[43m)\u001b[49m\n\u001b[1;32m   4514\u001b[0m     \u001b[38;5;28;01mif\u001b[39;00m (\n\u001b[1;32m   4515\u001b[0m         key \u001b[38;5;129;01min\u001b[39;00m \u001b[38;5;28mself\u001b[39m\u001b[38;5;241m.\u001b[39mcolumns\n\u001b[1;32m   4516\u001b[0m         \u001b[38;5;129;01mand\u001b[39;00m value\u001b[38;5;241m.\u001b[39mndim \u001b[38;5;241m==\u001b[39m \u001b[38;5;241m1\u001b[39m\n\u001b[1;32m   4517\u001b[0m         \u001b[38;5;129;01mand\u001b[39;00m \u001b[38;5;129;01mnot\u001b[39;00m \u001b[38;5;28misinstance\u001b[39m(value\u001b[38;5;241m.\u001b[39mdtype, ExtensionDtype)\n\u001b[1;32m   4518\u001b[0m     ):\n\u001b[1;32m   4519\u001b[0m         \u001b[38;5;66;03m# broadcast across multiple columns if necessary\u001b[39;00m\n\u001b[1;32m   4520\u001b[0m         \u001b[38;5;28;01mif\u001b[39;00m \u001b[38;5;129;01mnot\u001b[39;00m \u001b[38;5;28mself\u001b[39m\u001b[38;5;241m.\u001b[39mcolumns\u001b[38;5;241m.\u001b[39mis_unique \u001b[38;5;129;01mor\u001b[39;00m \u001b[38;5;28misinstance\u001b[39m(\u001b[38;5;28mself\u001b[39m\u001b[38;5;241m.\u001b[39mcolumns, MultiIndex):\n",
      "File \u001b[0;32m~/projects/leonardo.ai/venv/lib/python3.10/site-packages/pandas/core/frame.py:5253\u001b[0m, in \u001b[0;36mDataFrame._sanitize_column\u001b[0;34m(self, value)\u001b[0m\n\u001b[1;32m   5250\u001b[0m     \u001b[38;5;28;01mreturn\u001b[39;00m _reindex_for_setitem(value, \u001b[38;5;28mself\u001b[39m\u001b[38;5;241m.\u001b[39mindex)\n\u001b[1;32m   5252\u001b[0m \u001b[38;5;28;01mif\u001b[39;00m is_list_like(value):\n\u001b[0;32m-> 5253\u001b[0m     \u001b[43mcom\u001b[49m\u001b[38;5;241;43m.\u001b[39;49m\u001b[43mrequire_length_match\u001b[49m\u001b[43m(\u001b[49m\u001b[43mvalue\u001b[49m\u001b[43m,\u001b[49m\u001b[43m \u001b[49m\u001b[38;5;28;43mself\u001b[39;49m\u001b[38;5;241;43m.\u001b[39;49m\u001b[43mindex\u001b[49m\u001b[43m)\u001b[49m\n\u001b[1;32m   5254\u001b[0m arr \u001b[38;5;241m=\u001b[39m sanitize_array(value, \u001b[38;5;28mself\u001b[39m\u001b[38;5;241m.\u001b[39mindex, copy\u001b[38;5;241m=\u001b[39m\u001b[38;5;28;01mTrue\u001b[39;00m, allow_2d\u001b[38;5;241m=\u001b[39m\u001b[38;5;28;01mTrue\u001b[39;00m)\n\u001b[1;32m   5255\u001b[0m \u001b[38;5;28;01mif\u001b[39;00m (\n\u001b[1;32m   5256\u001b[0m     \u001b[38;5;28misinstance\u001b[39m(value, Index)\n\u001b[1;32m   5257\u001b[0m     \u001b[38;5;129;01mand\u001b[39;00m value\u001b[38;5;241m.\u001b[39mdtype \u001b[38;5;241m==\u001b[39m \u001b[38;5;124m\"\u001b[39m\u001b[38;5;124mobject\u001b[39m\u001b[38;5;124m\"\u001b[39m\n\u001b[0;32m   (...)\u001b[0m\n\u001b[1;32m   5260\u001b[0m     \u001b[38;5;66;03m# TODO: Remove kludge in sanitize_array for string mode when enforcing\u001b[39;00m\n\u001b[1;32m   5261\u001b[0m     \u001b[38;5;66;03m# this deprecation\u001b[39;00m\n",
      "File \u001b[0;32m~/projects/leonardo.ai/venv/lib/python3.10/site-packages/pandas/core/common.py:571\u001b[0m, in \u001b[0;36mrequire_length_match\u001b[0;34m(data, index)\u001b[0m\n\u001b[1;32m    567\u001b[0m \u001b[38;5;250m\u001b[39m\u001b[38;5;124;03m\"\"\"\u001b[39;00m\n\u001b[1;32m    568\u001b[0m \u001b[38;5;124;03mCheck the length of data matches the length of the index.\u001b[39;00m\n\u001b[1;32m    569\u001b[0m \u001b[38;5;124;03m\"\"\"\u001b[39;00m\n\u001b[1;32m    570\u001b[0m \u001b[38;5;28;01mif\u001b[39;00m \u001b[38;5;28mlen\u001b[39m(data) \u001b[38;5;241m!=\u001b[39m \u001b[38;5;28mlen\u001b[39m(index):\n\u001b[0;32m--> 571\u001b[0m     \u001b[38;5;28;01mraise\u001b[39;00m \u001b[38;5;167;01mValueError\u001b[39;00m(\n\u001b[1;32m    572\u001b[0m         \u001b[38;5;124m\"\u001b[39m\u001b[38;5;124mLength of values \u001b[39m\u001b[38;5;124m\"\u001b[39m\n\u001b[1;32m    573\u001b[0m         \u001b[38;5;124mf\u001b[39m\u001b[38;5;124m\"\u001b[39m\u001b[38;5;124m(\u001b[39m\u001b[38;5;132;01m{\u001b[39;00m\u001b[38;5;28mlen\u001b[39m(data)\u001b[38;5;132;01m}\u001b[39;00m\u001b[38;5;124m) \u001b[39m\u001b[38;5;124m\"\u001b[39m\n\u001b[1;32m    574\u001b[0m         \u001b[38;5;124m\"\u001b[39m\u001b[38;5;124mdoes not match length of index \u001b[39m\u001b[38;5;124m\"\u001b[39m\n\u001b[1;32m    575\u001b[0m         \u001b[38;5;124mf\u001b[39m\u001b[38;5;124m\"\u001b[39m\u001b[38;5;124m(\u001b[39m\u001b[38;5;132;01m{\u001b[39;00m\u001b[38;5;28mlen\u001b[39m(index)\u001b[38;5;132;01m}\u001b[39;00m\u001b[38;5;124m)\u001b[39m\u001b[38;5;124m\"\u001b[39m\n\u001b[1;32m    576\u001b[0m     )\n",
      "\u001b[0;31mValueError\u001b[0m: Length of values (3) does not match length of index (51)"
     ]
    }
   ],
   "source": [
    "\"\"\"\n",
    "Now that we have our similarities all that's left to do is to output them\n",
    "back to our dataframe and save the output.\n",
    "\"\"\"\n",
    "df['similarity'] = similarities\n",
    "df.to_csv(\"output.csv\", index=False)"
   ]
  }
 ],
 "metadata": {
  "kernelspec": {
   "display_name": "venv",
   "language": "python",
   "name": "python3"
  },
  "language_info": {
   "codemirror_mode": {
    "name": "ipython",
    "version": 3
   },
   "file_extension": ".py",
   "mimetype": "text/x-python",
   "name": "python",
   "nbconvert_exporter": "python",
   "pygments_lexer": "ipython3",
   "version": "3.10.12"
  }
 },
 "nbformat": 4,
 "nbformat_minor": 2
}
